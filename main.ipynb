{
 "cells": [
  {
   "cell_type": "markdown",
   "metadata": {},
   "source": [
    "## 0. Imports"
   ]
  },
  {
   "cell_type": "code",
   "execution_count": 1,
   "metadata": {},
   "outputs": [],
   "source": [
    "import pandas as pd\n",
    "import random"
   ]
  },
  {
   "cell_type": "code",
   "execution_count": 2,
   "metadata": {},
   "outputs": [],
   "source": [
    "deck =  pd.read_csv('splendor_cards.csv')"
   ]
  },
  {
   "cell_type": "code",
   "execution_count": 3,
   "metadata": {},
   "outputs": [
    {
     "data": {
      "text/html": [
       "<div>\n",
       "<style scoped>\n",
       "    .dataframe tbody tr th:only-of-type {\n",
       "        vertical-align: middle;\n",
       "    }\n",
       "\n",
       "    .dataframe tbody tr th {\n",
       "        vertical-align: top;\n",
       "    }\n",
       "\n",
       "    .dataframe thead th {\n",
       "        text-align: right;\n",
       "    }\n",
       "</style>\n",
       "<table border=\"1\" class=\"dataframe\">\n",
       "  <thead>\n",
       "    <tr style=\"text-align: right;\">\n",
       "      <th></th>\n",
       "      <th>Level</th>\n",
       "      <th>Color</th>\n",
       "      <th>PV</th>\n",
       "      <th>Black</th>\n",
       "      <th>Blue</th>\n",
       "      <th>Green</th>\n",
       "      <th>Red</th>\n",
       "      <th>White</th>\n",
       "    </tr>\n",
       "  </thead>\n",
       "  <tbody>\n",
       "    <tr>\n",
       "      <th>0</th>\n",
       "      <td>1</td>\n",
       "      <td>Black</td>\n",
       "      <td>0</td>\n",
       "      <td>0</td>\n",
       "      <td>1</td>\n",
       "      <td>1</td>\n",
       "      <td>1</td>\n",
       "      <td>1</td>\n",
       "    </tr>\n",
       "    <tr>\n",
       "      <th>1</th>\n",
       "      <td>1</td>\n",
       "      <td>Black</td>\n",
       "      <td>0</td>\n",
       "      <td>0</td>\n",
       "      <td>2</td>\n",
       "      <td>1</td>\n",
       "      <td>1</td>\n",
       "      <td>1</td>\n",
       "    </tr>\n",
       "    <tr>\n",
       "      <th>2</th>\n",
       "      <td>1</td>\n",
       "      <td>Black</td>\n",
       "      <td>0</td>\n",
       "      <td>0</td>\n",
       "      <td>2</td>\n",
       "      <td>0</td>\n",
       "      <td>1</td>\n",
       "      <td>2</td>\n",
       "    </tr>\n",
       "    <tr>\n",
       "      <th>3</th>\n",
       "      <td>1</td>\n",
       "      <td>Black</td>\n",
       "      <td>0</td>\n",
       "      <td>1</td>\n",
       "      <td>0</td>\n",
       "      <td>1</td>\n",
       "      <td>3</td>\n",
       "      <td>0</td>\n",
       "    </tr>\n",
       "    <tr>\n",
       "      <th>4</th>\n",
       "      <td>1</td>\n",
       "      <td>Black</td>\n",
       "      <td>0</td>\n",
       "      <td>0</td>\n",
       "      <td>0</td>\n",
       "      <td>2</td>\n",
       "      <td>1</td>\n",
       "      <td>0</td>\n",
       "    </tr>\n",
       "  </tbody>\n",
       "</table>\n",
       "</div>"
      ],
      "text/plain": [
       "   Level  Color  PV  Black  Blue  Green  Red  White\n",
       "0      1  Black   0      0     1      1    1      1\n",
       "1      1  Black   0      0     2      1    1      1\n",
       "2      1  Black   0      0     2      0    1      2\n",
       "3      1  Black   0      1     0      1    3      0\n",
       "4      1  Black   0      0     0      2    1      0"
      ]
     },
     "execution_count": 3,
     "metadata": {},
     "output_type": "execute_result"
    }
   ],
   "source": [
    "deck.head()"
   ]
  },
  {
   "cell_type": "markdown",
   "metadata": {},
   "source": [
    "## 1. Planning\n",
    "\n",
    "### Major Considerations\n",
    "1. Option to choose number of players (2-4, rules change accordingly)\n",
    "2. Option to join as player or bot\n",
    "\n",
    "### Game Elements\n",
    "**Public**\n",
    "1. Development Cards\n",
    "2. Development Cards Draw Pile\n",
    "3. Noble tiles (10 each) ***csv pending!***\n",
    "4. White, Blue, Green, Red, Black (7 each)\n",
    "5. Yellow tokens (5 each)\n",
    "6. Prestige Points\n",
    "7. Bonuses held\n",
    "8. Gems held\n",
    "\n",
    "**Player**\n",
    "1. Reserved Cards (Up to 3)"
   ]
  },
  {
   "cell_type": "markdown",
   "metadata": {},
   "source": [
    "### Change of Direction\n",
    "\n",
    "After more thought, it may be better to stick to a single player mode for now, where the goal is to get 15 VP in the lowest amount of moves possible."
   ]
  },
  {
   "cell_type": "markdown",
   "metadata": {},
   "source": [
    "## 2. Design Tests\n",
    "1. Issues with Nobles Scalability (printing on the same line)\n",
    "2. Current thoughts hinging on using a df as current board layout"
   ]
  },
  {
   "cell_type": "code",
   "execution_count": null,
   "metadata": {},
   "outputs": [],
   "source": [
    "starting_deck = deck\n",
    "\n",
    "percent_sampled = 12\n",
    "table = starting_deck.sample(12)\n",
    "\n",
    "table['is_selected'] = starting_deck.index.isin(table.index)"
   ]
  },
  {
   "cell_type": "code",
   "execution_count": 76,
   "metadata": {},
   "outputs": [],
   "source": [
    "def table_display():\n",
    "    a = 1\n",
    "\n",
    "    # All variables defined before this line\n",
    "    print(f\"\"\"\n",
    "    *Nobles*\n",
    "    ┌─────────┐   ┌─────────┐   ┌─────────┐\n",
    "    │E:{a}   D:{a}│   │E:{a}   D:{a}│   │E:{a}   D:{a}│\n",
    "    │S:{a}   O:{a}│   │S:{a}   O:{a}│   │S:{a}   O:{a}│\n",
    "    │R:{a}      │   │R:{a}      │   │R:{a}      │         \n",
    "    └─────────┘   └─────────┘   └─────────┘\"\"\")\n",
    "    print(f\"\"\"\n",
    "    *Gems*\n",
    "    Emerald   Sapphire    Ruby    Diamond     Onyx\n",
    "      ({a})       ({a})       ({a})       ({a})       ({a})\n",
    "\n",
    "    *Development Cards*\n",
    "    ┌─────────┐   ┌─────────┐   ┌─────────┐   ┌─────────┐\n",
    "    │({a})   ({a})│   │({a})   ({a})│   │({a})   ({a})│   │({a})   ({a})│\n",
    "    │E:{a}   D:{a}│   │E:{a}   D:{a}│   │E:{a}   D:{a}│   │E:{a}   D:{a}│\n",
    "    │S:{a}   O:{a}│   │S:{a}   O:{a}│   │S:{a}   O:{a}│   │S:{a}   O:{a}│\n",
    "    │R:{a}      │   │R:{a}      │   │R:{a}      │   │R:{a}      │          \n",
    "    └─────────┘   └─────────┘   └─────────┘   └─────────┘\"\"\")\n",
    "    print(f\"\"\"\n",
    "    ┌─────────┐   ┌─────────┐   ┌─────────┐   ┌─────────┐\n",
    "    │({a})   ({a})│   │({a})   ({a})│   │({a})   ({a})│   │({a})   ({a})│\n",
    "    │E:{a}   D:{a}│   │E:{a}   D:{a}│   │E:{a}   D:{a}│   │E:{a}   D:{a}│\n",
    "    │S:{a}   O:{a}│   │S:{a}   O:{a}│   │S:{a}   O:{a}│   │S:{a}   O:{a}│\n",
    "    │R:{a}      │   │R:{a}      │   │R:{a}      │   │R:{a}      │          \n",
    "    └─────────┘   └─────────┘   └─────────┘   └─────────┘\"\"\")\n",
    "    print(f\"\"\"\n",
    "    ┌─────────┐   ┌─────────┐   ┌─────────┐   ┌─────────┐\n",
    "    │({a})   ({a})│   │({a})   ({a})│   │({a})   ({a})│   │({a})   ({a})│\n",
    "    │E:{a}   D:{a}│   │E:{a}   D:{a}│   │E:{a}   D:{a}│   │E:{a}   D:{a}│\n",
    "    │S:{a}   O:{a}│   │S:{a}   O:{a}│   │S:{a}   O:{a}│   │S:{a}   O:{a}│\n",
    "    │R:{a}      │   │R:{a}      │   │R:{a}      │   │R:{a}      │          \n",
    "    └─────────┘   └─────────┘   └─────────┘   └─────────┘\"\"\")"
   ]
  },
  {
   "cell_type": "code",
   "execution_count": 77,
   "metadata": {},
   "outputs": [
    {
     "name": "stdout",
     "output_type": "stream",
     "text": [
      "\n",
      "    *Nobles*\n",
      "    ┌─────────┐   ┌─────────┐   ┌─────────┐\n",
      "    │E:1   D:1│   │E:1   D:1│   │E:1   D:1│\n",
      "    │S:1   O:1│   │S:1   O:1│   │S:1   O:1│\n",
      "    │R:1      │   │R:1      │   │R:1      │         \n",
      "    └─────────┘   └─────────┘   └─────────┘\n",
      "\n",
      "    *Gems*\n",
      "    Emerald   Sapphire    Ruby    Diamond     Onyx\n",
      "      (1)       (1)       (1)       (1)       (1)\n",
      "\n",
      "    *Development Cards*\n",
      "    ┌─────────┐   ┌─────────┐   ┌─────────┐   ┌─────────┐\n",
      "    │(1)   (1)│   │(1)   (1)│   │(1)   (1)│   │(1)   (1)│\n",
      "    │E:1   D:1│   │E:1   D:1│   │E:1   D:1│   │E:1   D:1│\n",
      "    │S:1   O:1│   │S:1   O:1│   │S:1   O:1│   │S:1   O:1│\n",
      "    │R:1      │   │R:1      │   │R:1      │   │R:1      │          \n",
      "    └─────────┘   └─────────┘   └─────────┘   └─────────┘\n",
      "\n",
      "    ┌─────────┐   ┌─────────┐   ┌─────────┐   ┌─────────┐\n",
      "    │(1)   (1)│   │(1)   (1)│   │(1)   (1)│   │(1)   (1)│\n",
      "    │E:1   D:1│   │E:1   D:1│   │E:1   D:1│   │E:1   D:1│\n",
      "    │S:1   O:1│   │S:1   O:1│   │S:1   O:1│   │S:1   O:1│\n",
      "    │R:1      │   │R:1      │   │R:1      │   │R:1      │          \n",
      "    └─────────┘   └─────────┘   └─────────┘   └─────────┘\n",
      "\n",
      "    ┌─────────┐   ┌─────────┐   ┌─────────┐   ┌─────────┐\n",
      "    │(1)   (1)│   │(1)   (1)│   │(1)   (1)│   │(1)   (1)│\n",
      "    │E:1   D:1│   │E:1   D:1│   │E:1   D:1│   │E:1   D:1│\n",
      "    │S:1   O:1│   │S:1   O:1│   │S:1   O:1│   │S:1   O:1│\n",
      "    │R:1      │   │R:1      │   │R:1      │   │R:1      │          \n",
      "    └─────────┘   └─────────┘   └─────────┘   └─────────┘\n"
     ]
    }
   ],
   "source": [
    "table_display()"
   ]
  },
  {
   "cell_type": "code",
   "execution_count": 11,
   "metadata": {},
   "outputs": [
    {
     "name": "stdout",
     "output_type": "stream",
     "text": [
      "Black\n"
     ]
    }
   ],
   "source": [
    "print(deck.loc[0]['Color'])"
   ]
  }
 ],
 "metadata": {
  "kernelspec": {
   "display_name": "Python 3",
   "language": "python",
   "name": "python3"
  },
  "language_info": {
   "codemirror_mode": {
    "name": "ipython",
    "version": 3
   },
   "file_extension": ".py",
   "mimetype": "text/x-python",
   "name": "python",
   "nbconvert_exporter": "python",
   "pygments_lexer": "ipython3",
   "version": "3.11.2"
  }
 },
 "nbformat": 4,
 "nbformat_minor": 2
}
